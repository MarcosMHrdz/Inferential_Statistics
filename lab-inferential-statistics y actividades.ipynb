{
 "cells": [
  {
   "cell_type": "markdown",
   "metadata": {},
   "source": [
    "Laboratorio | Estadística inferencial\n",
    "Instrucciones\n",
    "Se supone que la presión arterial sistólica media es μ = 120 mm Hg. En el estudio del corazón de Honolulu, una muestra de n = 100personas tenía una presión arterial sistólica promedio de 130,1 mm Hg con una desviación estándar de 21,21 mm Hg. ¿El grupo es significativamente diferente (con respecto a la presión arterial sistólica) de la población normal?\n",
    "\n",
    "Establecer la prueba de hipótesis.\n",
    "Anota todos los pasos seguidos para configurar la prueba.\n",
    "Calcule la estadística de prueba a mano y también codifíquela en Python. Debería ser 4,76190. Veremos cómo tomar decisiones en función de este valor calculado.\n",
    "Si terminaste la pregunta anterior, revisa el código principal_component_analysis_exampleprovisto en la files_for_labcarpeta."
   ]
  },
  {
   "cell_type": "code",
   "execution_count": 2,
   "metadata": {},
   "outputs": [
    {
     "data": {
      "text/plain": [
       "4.761904761904759"
      ]
     },
     "execution_count": 2,
     "metadata": {},
     "output_type": "execute_result"
    }
   ],
   "source": [
    "import numpy as np\n",
    "from scipy import stats\n",
    "\n",
    "# Datos\n",
    "mu = 120\n",
    "sample_mean = 130.1\n",
    "sample_std = 21.21\n",
    "n = 100\n",
    "\n",
    "# Cálculo del estadístico t\n",
    "t_stat = (sample_mean - mu) / (sample_std / np.sqrt(n))\n",
    "t_stat\n"
   ]
  },
  {
   "cell_type": "code",
   "execution_count": 1,
   "metadata": {},
   "outputs": [],
   "source": [
    "from scipy import stats\n",
    "\n"
   ]
  },
  {
   "cell_type": "code",
   "execution_count": 4,
   "metadata": {},
   "outputs": [
    {
     "data": {
      "text/plain": [
       "6.562701817092176e-06"
      ]
     },
     "execution_count": 4,
     "metadata": {},
     "output_type": "execute_result"
    }
   ],
   "source": [
    "(1 - (stats.t.cdf(t_stat, 99))) * 2"
   ]
  },
  {
   "cell_type": "markdown",
   "metadata": {},
   "source": [
    "Rechazamos la hipótesis nula: la media de la muestra es distinta a la media de la población."
   ]
  },
  {
   "cell_type": "code",
   "execution_count": null,
   "metadata": {},
   "outputs": [],
   "source": []
  },
  {
   "cell_type": "code",
   "execution_count": null,
   "metadata": {},
   "outputs": [],
   "source": []
  },
  {
   "cell_type": "code",
   "execution_count": null,
   "metadata": {},
   "outputs": [],
   "source": []
  },
  {
   "cell_type": "code",
   "execution_count": null,
   "metadata": {},
   "outputs": [],
   "source": []
  }
 ],
 "metadata": {
  "kernelspec": {
   "display_name": "Python 3",
   "language": "python",
   "name": "python3"
  },
  "language_info": {
   "codemirror_mode": {
    "name": "ipython",
    "version": 3
   },
   "file_extension": ".py",
   "mimetype": "text/x-python",
   "name": "python",
   "nbconvert_exporter": "python",
   "pygments_lexer": "ipython3",
   "version": "3.12.2"
  }
 },
 "nbformat": 4,
 "nbformat_minor": 2
}
